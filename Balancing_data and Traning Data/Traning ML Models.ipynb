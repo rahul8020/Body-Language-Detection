{
 "cells": [
  {
   "cell_type": "markdown",
   "id": "bf23cd3a",
   "metadata": {},
   "source": [
    "# Traning the model "
   ]
  },
  {
   "cell_type": "code",
   "execution_count": 2,
   "id": "283dab0d",
   "metadata": {},
   "outputs": [],
   "source": [
    "import pandas as pd\n",
    "from sklearn.model_selection import train_test_split"
   ]
  },
  {
   "cell_type": "code",
   "execution_count": 14,
   "id": "a6d804d8",
   "metadata": {},
   "outputs": [],
   "source": [
    "df = pd.read_csv('coords.csv')"
   ]
  },
  {
   "cell_type": "code",
   "execution_count": 4,
   "id": "fd5aa347",
   "metadata": {},
   "outputs": [
    {
     "name": "stdout",
     "output_type": "stream",
     "text": [
      "<class 'pandas.core.frame.DataFrame'>\n",
      "RangeIndex: 8068 entries, 0 to 8067\n",
      "Columns: 2005 entries, class to v501\n",
      "dtypes: float64(2004), object(1)\n",
      "memory usage: 123.4+ MB\n"
     ]
    }
   ],
   "source": [
    "df.info()"
   ]
  },
  {
   "cell_type": "code",
   "execution_count": 15,
   "id": "f13391f9-abde-45cb-9a81-d63c70c2c227",
   "metadata": {},
   "outputs": [
    {
     "data": {
      "text/plain": [
       "class    7902\n",
       "x1       7902\n",
       "y1       7902\n",
       "z1       7902\n",
       "v1       7902\n",
       "         ... \n",
       "v500     7902\n",
       "x501     7902\n",
       "y501     7902\n",
       "z501     7902\n",
       "v501     7902\n",
       "Length: 2005, dtype: int64"
      ]
     },
     "execution_count": 15,
     "metadata": {},
     "output_type": "execute_result"
    }
   ],
   "source": [
    "df.isna().count()"
   ]
  },
  {
   "cell_type": "code",
   "execution_count": 16,
   "id": "ec257973",
   "metadata": {},
   "outputs": [],
   "source": [
    "X = df.drop('class', axis=1) # features\n",
    "y = df['class'] # target value"
   ]
  },
  {
   "cell_type": "code",
   "execution_count": 17,
   "id": "b172fc38",
   "metadata": {},
   "outputs": [],
   "source": [
    "X_train, X_test, y_train, y_test = train_test_split(X, y, test_size=0.3, random_state=1234)"
   ]
  },
  {
   "cell_type": "code",
   "execution_count": 7,
   "id": "ea40aa59",
   "metadata": {},
   "outputs": [
    {
     "data": {
      "text/plain": [
       "6             sad\n",
       "2252       stress\n",
       "454           sad\n",
       "1293       offend\n",
       "2256       stress\n",
       "          ...    \n",
       "2004    intrested\n",
       "2135    intrested\n",
       "4113      victory\n",
       "3641        lying\n",
       "2240       stress\n",
       "Name: class, Length: 2421, dtype: object"
      ]
     },
     "execution_count": 7,
     "metadata": {},
     "output_type": "execute_result"
    }
   ],
   "source": [
    "y_test"
   ]
  },
  {
   "cell_type": "code",
   "execution_count": 8,
   "id": "2a51f1fb",
   "metadata": {},
   "outputs": [],
   "source": [
    "from sklearn.pipeline import make_pipeline \n",
    "from sklearn.preprocessing import StandardScaler \n",
    "from sklearn.ensemble import RandomForestClassifier,GradientBoostingClassifier\n",
    "from sklearn import svm"
   ]
  },
  {
   "cell_type": "code",
   "execution_count": 72,
   "id": "29dd6d58",
   "metadata": {},
   "outputs": [],
   "source": [
    "pipelines = {'rf':make_pipeline(StandardScaler(), RandomForestClassifier()),\n",
    "            'gb':make_pipeline(StandardScaler(), GradientBoostingClassifier()),\n",
    "            'svm':make_pipeline(StandardScaler(),svm.SVC())}"
   ]
  },
  {
   "cell_type": "code",
   "execution_count": 19,
   "id": "c958d606",
   "metadata": {},
   "outputs": [],
   "source": [
    "pipelines = {'rf':make_pipeline(StandardScaler(), RandomForestClassifier())}"
   ]
  },
  {
   "cell_type": "code",
   "execution_count": 20,
   "id": "3895d511",
   "metadata": {},
   "outputs": [],
   "source": [
    "fit_models = {}\n",
    "for algo, pipeline in pipelines.items():\n",
    "    model = pipeline.fit(X_train, y_train)\n",
    "    fit_models[algo] = model"
   ]
  },
  {
   "cell_type": "code",
   "execution_count": 21,
   "id": "526cc2e8",
   "metadata": {},
   "outputs": [
    {
     "data": {
      "text/plain": [
       "{'rf': Pipeline(steps=[('standardscaler', StandardScaler()),\n",
       "                 ('randomforestclassifier', RandomForestClassifier())])}"
      ]
     },
     "execution_count": 21,
     "metadata": {},
     "output_type": "execute_result"
    }
   ],
   "source": [
    "fit_models"
   ]
  },
  {
   "cell_type": "code",
   "execution_count": 10,
   "id": "6428fb1a",
   "metadata": {},
   "outputs": [
    {
     "data": {
      "text/plain": [
       "array(['lying', 'lying', 'victory', 'sad', 'offend', 'lying', 'victory',\n",
       "       'intrested', 'hiding', 'sad', 'offend', 'sad', 'victory',\n",
       "       'intrested', 'sad', 'victory', 'stressed', 'offend', 'intrested',\n",
       "       'lying', 'offend', 'intrested', 'intrested', 'stressed', 'hiding',\n",
       "       'sad', 'lying', 'lying', 'sad', 'sad', 'victory', 'hiding',\n",
       "       'hiding', 'lying', 'hiding', 'victory', 'victory', 'intrested',\n",
       "       'sad', 'offend', 'offend', 'offend', 'intrested', 'hiding',\n",
       "       'intrested', 'stressed', 'intrested', 'sad', 'hiding', 'stressed',\n",
       "       'offend', 'offend', 'hiding', 'intrested', 'offend', 'hiding',\n",
       "       'intrested', 'intrested', 'stressed', 'sad', 'stressed', 'victory',\n",
       "       'lying', 'victory', 'hiding', 'victory', 'offend', 'hiding', 'sad',\n",
       "       'intrested', 'offend', 'sad', 'lying', 'intrested', 'hiding',\n",
       "       'hiding', 'stressed', 'hiding', 'victory', 'offend', 'stressed',\n",
       "       'lying', 'intrested', 'sad', 'victory', 'intrested', 'offend',\n",
       "       'offend', 'offend', 'sad', 'offend', 'lying', 'sad', 'hiding',\n",
       "       'stressed', 'intrested', 'sad', 'intrested', 'sad', 'sad',\n",
       "       'offend', 'offend', 'sad', 'intrested', 'stressed', 'victory',\n",
       "       'hiding', 'sad', 'hiding', 'sad', 'lying', 'victory', 'offend',\n",
       "       'hiding', 'sad', 'intrested', 'hiding', 'sad', 'intrested',\n",
       "       'hiding', 'offend', 'sad', 'stressed', 'sad', 'victory',\n",
       "       'stressed', 'hiding', 'offend', 'hiding', 'offend', 'victory',\n",
       "       'stressed', 'offend', 'offend', 'intrested', 'offend', 'intrested',\n",
       "       'lying', 'offend', 'stressed', 'intrested', 'stressed', 'sad',\n",
       "       'lying', 'hiding', 'offend', 'sad', 'hiding', 'lying', 'offend',\n",
       "       'stressed', 'lying', 'intrested', 'hiding', 'hiding', 'intrested',\n",
       "       'offend', 'intrested', 'offend', 'intrested', 'offend', 'lying',\n",
       "       'hiding', 'victory', 'lying', 'intrested', 'hiding', 'offend',\n",
       "       'intrested', 'offend', 'victory', 'lying', 'stressed', 'hiding',\n",
       "       'offend', 'intrested', 'victory', 'victory', 'intrested',\n",
       "       'victory', 'offend', 'lying', 'sad', 'hiding', 'offend', 'hiding',\n",
       "       'victory', 'hiding', 'lying', 'intrested', 'lying', 'hiding',\n",
       "       'victory', 'sad', 'offend', 'offend', 'sad', 'sad', 'lying', 'sad',\n",
       "       'offend', 'hiding', 'stressed', 'hiding', 'lying', 'victory',\n",
       "       'sad', 'lying', 'offend', 'offend', 'victory', 'offend', 'hiding',\n",
       "       'victory', 'sad', 'sad', 'victory', 'intrested', 'offend',\n",
       "       'hiding', 'sad', 'stressed', 'offend', 'offend', 'intrested',\n",
       "       'hiding', 'offend', 'hiding', 'sad', 'offend', 'offend', 'hiding',\n",
       "       'stressed', 'offend', 'intrested', 'stressed', 'lying', 'lying',\n",
       "       'stressed', 'lying', 'offend', 'hiding', 'intrested', 'offend',\n",
       "       'hiding', 'victory', 'intrested', 'intrested', 'victory', 'hiding',\n",
       "       'offend', 'hiding', 'offend', 'intrested', 'offend', 'stressed',\n",
       "       'hiding', 'offend', 'intrested', 'lying', 'offend', 'hiding',\n",
       "       'sad', 'intrested', 'victory', 'sad', 'lying', 'lying', 'lying',\n",
       "       'stressed', 'victory', 'sad', 'sad', 'lying', 'offend',\n",
       "       'intrested', 'victory', 'intrested', 'intrested', 'stressed',\n",
       "       'offend', 'sad', 'victory', 'offend', 'intrested', 'offend',\n",
       "       'offend', 'offend', 'victory', 'sad', 'victory', 'sad', 'sad',\n",
       "       'lying', 'offend', 'hiding', 'lying', 'offend', 'stressed',\n",
       "       'intrested', 'lying', 'stressed', 'hiding', 'victory', 'hiding',\n",
       "       'victory', 'hiding', 'hiding', 'stressed', 'lying', 'stressed',\n",
       "       'stressed', 'sad', 'victory', 'hiding', 'hiding', 'stressed',\n",
       "       'offend', 'lying', 'stressed', 'offend', 'lying', 'hiding',\n",
       "       'hiding', 'intrested', 'victory', 'intrested', 'intrested',\n",
       "       'lying', 'hiding', 'sad', 'stressed', 'intrested', 'intrested',\n",
       "       'hiding', 'hiding', 'victory', 'intrested', 'hiding', 'hiding',\n",
       "       'intrested', 'intrested', 'victory', 'hiding', 'intrested',\n",
       "       'lying', 'victory', 'intrested', 'offend', 'hiding', 'offend',\n",
       "       'victory', 'stressed', 'hiding', 'stressed', 'hiding', 'hiding',\n",
       "       'sad', 'hiding', 'hiding', 'offend', 'lying', 'hiding', 'offend',\n",
       "       'hiding', 'lying', 'hiding', 'sad', 'stressed', 'offend',\n",
       "       'stressed', 'offend', 'offend', 'lying', 'sad', 'offend',\n",
       "       'victory', 'offend', 'sad', 'victory', 'offend', 'intrested',\n",
       "       'intrested', 'offend', 'sad', 'victory', 'hiding', 'lying',\n",
       "       'lying', 'hiding', 'hiding', 'victory', 'lying', 'hiding',\n",
       "       'hiding', 'victory', 'hiding', 'intrested', 'victory', 'hiding',\n",
       "       'sad', 'lying', 'hiding', 'hiding', 'stressed', 'offend',\n",
       "       'intrested', 'stressed', 'offend', 'victory', 'hiding', 'sad',\n",
       "       'offend', 'victory', 'intrested', 'offend', 'lying', 'hiding',\n",
       "       'lying', 'offend', 'offend', 'victory', 'lying', 'victory',\n",
       "       'offend', 'offend', 'sad', 'intrested', 'hiding', 'sad', 'offend',\n",
       "       'hiding', 'stressed', 'lying', 'hiding', 'intrested', 'offend',\n",
       "       'lying', 'lying', 'hiding', 'sad', 'victory', 'lying', 'hiding',\n",
       "       'stressed', 'offend', 'sad', 'sad', 'hiding', 'hiding', 'offend',\n",
       "       'offend', 'hiding', 'victory', 'stressed', 'offend', 'hiding',\n",
       "       'victory', 'stressed', 'intrested', 'intrested', 'offend', 'sad',\n",
       "       'intrested', 'sad', 'hiding', 'victory', 'victory', 'sad',\n",
       "       'offend', 'sad'], dtype=object)"
      ]
     },
     "execution_count": 10,
     "metadata": {},
     "output_type": "execute_result"
    }
   ],
   "source": [
    "fit_models['rf'].predict(X_test)"
   ]
  },
  {
   "cell_type": "code",
   "execution_count": 76,
   "id": "10121071",
   "metadata": {},
   "outputs": [
    {
     "data": {
      "text/plain": [
       "array(['lying', 'lying', 'victory', 'sad', 'offend', 'lying', 'victory',\n",
       "       'intrested', 'hiding', 'sad', 'offend', 'sad', 'victory',\n",
       "       'intrested', 'sad', 'victory', 'stressed', 'offend', 'intrested',\n",
       "       'lying', 'offend', 'intrested', 'intrested', 'stressed', 'hiding',\n",
       "       'sad', 'lying', 'lying', 'sad', 'sad', 'victory', 'hiding',\n",
       "       'hiding', 'lying', 'hiding', 'victory', 'victory', 'intrested',\n",
       "       'sad', 'offend', 'offend', 'offend', 'intrested', 'hiding',\n",
       "       'intrested', 'stressed', 'intrested', 'sad', 'hiding', 'stressed',\n",
       "       'offend', 'offend', 'hiding', 'intrested', 'offend', 'hiding',\n",
       "       'intrested', 'intrested', 'stressed', 'sad', 'stressed', 'victory',\n",
       "       'lying', 'victory', 'hiding', 'victory', 'offend', 'hiding', 'sad',\n",
       "       'intrested', 'offend', 'sad', 'lying', 'intrested', 'hiding',\n",
       "       'hiding', 'stressed', 'hiding', 'victory', 'offend', 'stressed',\n",
       "       'lying', 'intrested', 'sad', 'victory', 'intrested', 'offend',\n",
       "       'offend', 'offend', 'sad', 'offend', 'lying', 'sad', 'hiding',\n",
       "       'stressed', 'intrested', 'sad', 'intrested', 'sad', 'sad',\n",
       "       'offend', 'offend', 'sad', 'intrested', 'stressed', 'victory',\n",
       "       'hiding', 'sad', 'hiding', 'sad', 'lying', 'victory', 'offend',\n",
       "       'hiding', 'sad', 'intrested', 'hiding', 'sad', 'intrested',\n",
       "       'hiding', 'offend', 'sad', 'stressed', 'sad', 'victory',\n",
       "       'stressed', 'hiding', 'offend', 'hiding', 'offend', 'victory',\n",
       "       'stressed', 'offend', 'offend', 'intrested', 'offend', 'intrested',\n",
       "       'lying', 'offend', 'stressed', 'intrested', 'stressed', 'sad',\n",
       "       'lying', 'hiding', 'offend', 'sad', 'hiding', 'lying', 'offend',\n",
       "       'stressed', 'lying', 'intrested', 'hiding', 'hiding', 'intrested',\n",
       "       'offend', 'intrested', 'offend', 'intrested', 'offend', 'lying',\n",
       "       'hiding', 'victory', 'lying', 'intrested', 'hiding', 'offend',\n",
       "       'intrested', 'offend', 'victory', 'lying', 'stressed', 'hiding',\n",
       "       'offend', 'intrested', 'victory', 'victory', 'intrested',\n",
       "       'victory', 'offend', 'lying', 'sad', 'hiding', 'offend', 'hiding',\n",
       "       'victory', 'hiding', 'lying', 'intrested', 'lying', 'hiding',\n",
       "       'victory', 'sad', 'offend', 'offend', 'sad', 'sad', 'lying', 'sad',\n",
       "       'offend', 'hiding', 'stressed', 'hiding', 'lying', 'victory',\n",
       "       'sad', 'lying', 'offend', 'offend', 'victory', 'offend', 'hiding',\n",
       "       'victory', 'sad', 'sad', 'victory', 'intrested', 'offend',\n",
       "       'hiding', 'sad', 'stressed', 'offend', 'offend', 'intrested',\n",
       "       'hiding', 'offend', 'hiding', 'sad', 'offend', 'offend', 'hiding',\n",
       "       'stressed', 'offend', 'intrested', 'stressed', 'lying', 'lying',\n",
       "       'stressed', 'lying', 'offend', 'hiding', 'intrested', 'offend',\n",
       "       'hiding', 'victory', 'intrested', 'intrested', 'victory', 'hiding',\n",
       "       'offend', 'hiding', 'offend', 'intrested', 'offend', 'stressed',\n",
       "       'hiding', 'offend', 'intrested', 'lying', 'offend', 'hiding',\n",
       "       'sad', 'intrested', 'victory', 'sad', 'lying', 'lying', 'lying',\n",
       "       'stressed', 'victory', 'sad', 'sad', 'lying', 'offend',\n",
       "       'intrested', 'victory', 'intrested', 'intrested', 'stressed',\n",
       "       'offend', 'sad', 'victory', 'offend', 'intrested', 'offend',\n",
       "       'offend', 'offend', 'victory', 'sad', 'victory', 'sad', 'sad',\n",
       "       'lying', 'offend', 'hiding', 'lying', 'offend', 'stressed',\n",
       "       'intrested', 'lying', 'stressed', 'hiding', 'victory', 'hiding',\n",
       "       'victory', 'hiding', 'hiding', 'stressed', 'lying', 'stressed',\n",
       "       'stressed', 'sad', 'victory', 'hiding', 'hiding', 'stressed',\n",
       "       'offend', 'lying', 'stressed', 'offend', 'lying', 'hiding',\n",
       "       'hiding', 'intrested', 'victory', 'intrested', 'intrested',\n",
       "       'lying', 'hiding', 'sad', 'stressed', 'intrested', 'intrested',\n",
       "       'hiding', 'hiding', 'victory', 'intrested', 'hiding', 'hiding',\n",
       "       'intrested', 'intrested', 'victory', 'hiding', 'intrested',\n",
       "       'lying', 'victory', 'intrested', 'offend', 'hiding', 'offend',\n",
       "       'victory', 'stressed', 'hiding', 'stressed', 'hiding', 'hiding',\n",
       "       'sad', 'hiding', 'hiding', 'offend', 'lying', 'hiding', 'offend',\n",
       "       'hiding', 'lying', 'hiding', 'sad', 'stressed', 'offend',\n",
       "       'stressed', 'offend', 'offend', 'lying', 'sad', 'offend',\n",
       "       'victory', 'offend', 'sad', 'victory', 'offend', 'intrested',\n",
       "       'intrested', 'offend', 'sad', 'victory', 'hiding', 'lying',\n",
       "       'lying', 'hiding', 'hiding', 'victory', 'lying', 'hiding',\n",
       "       'hiding', 'victory', 'hiding', 'intrested', 'victory', 'hiding',\n",
       "       'sad', 'lying', 'hiding', 'hiding', 'stressed', 'offend',\n",
       "       'intrested', 'stressed', 'offend', 'victory', 'hiding', 'sad',\n",
       "       'offend', 'victory', 'intrested', 'offend', 'lying', 'hiding',\n",
       "       'lying', 'offend', 'offend', 'victory', 'lying', 'victory',\n",
       "       'offend', 'offend', 'sad', 'intrested', 'hiding', 'sad', 'offend',\n",
       "       'hiding', 'stressed', 'lying', 'hiding', 'intrested', 'offend',\n",
       "       'lying', 'lying', 'hiding', 'sad', 'victory', 'lying', 'hiding',\n",
       "       'stressed', 'offend', 'sad', 'sad', 'hiding', 'hiding', 'offend',\n",
       "       'offend', 'hiding', 'victory', 'stressed', 'offend', 'hiding',\n",
       "       'victory', 'stressed', 'intrested', 'intrested', 'offend', 'sad',\n",
       "       'intrested', 'sad', 'hiding', 'victory', 'victory', 'sad',\n",
       "       'offend', 'sad'], dtype=object)"
      ]
     },
     "execution_count": 76,
     "metadata": {},
     "output_type": "execute_result"
    }
   ],
   "source": [
    "fit_models['svm'].predict(X_test)"
   ]
  },
  {
   "cell_type": "code",
   "execution_count": 27,
   "id": "bb6dd682",
   "metadata": {},
   "outputs": [],
   "source": [
    "#Evaluate model "
   ]
  },
  {
   "cell_type": "code",
   "execution_count": 22,
   "id": "6fc3984a",
   "metadata": {},
   "outputs": [],
   "source": [
    "from sklearn.metrics import accuracy_score # Accuracy metrics \n",
    "import pickle "
   ]
  },
  {
   "cell_type": "code",
   "execution_count": 23,
   "id": "66134478",
   "metadata": {},
   "outputs": [
    {
     "name": "stdout",
     "output_type": "stream",
     "text": [
      "rf 1.0\n"
     ]
    }
   ],
   "source": [
    "for algo, model in fit_models.items():\n",
    "    yhat = model.predict(X_test)\n",
    "    print(algo, accuracy_score(y_test, yhat))"
   ]
  },
  {
   "cell_type": "code",
   "execution_count": 24,
   "id": "08ee0ad1",
   "metadata": {},
   "outputs": [
    {
     "data": {
      "text/plain": [
       "array(['stress', 'victory', 'lying', ..., 'intrested', 'sad', 'lying'],\n",
       "      dtype=object)"
      ]
     },
     "execution_count": 24,
     "metadata": {},
     "output_type": "execute_result"
    }
   ],
   "source": [
    "fit_models['rf'].predict(X_test)"
   ]
  },
  {
   "cell_type": "code",
   "execution_count": 61,
   "id": "c36b3e25",
   "metadata": {},
   "outputs": [
    {
     "data": {
      "text/plain": [
       "array(['happy', 'happy', 'happy', 'sad', 'offend', 'lying', 'victory',\n",
       "       'intrested', 'hiding', 'sad', 'offend', 'sad', 'victory',\n",
       "       'intrested', 'sad', 'victory', 'stressed', 'offend', 'intrested',\n",
       "       'lying', 'offend', 'intrested', 'intrested', 'stressed', 'hiding',\n",
       "       'sad', 'lying', 'lying', 'sad', 'sad', 'victory', 'hiding',\n",
       "       'hiding', 'lying', 'hiding', 'victory', 'victory', 'intrested',\n",
       "       'sad', 'offend', 'offend', 'offend', 'intrested', 'hiding',\n",
       "       'intrested', 'stressed', 'intrested', 'sad', 'hiding', 'stressed',\n",
       "       'offend', 'offend', 'hiding', 'intrested', 'offend', 'hiding',\n",
       "       'intrested', 'intrested', 'stressed', 'sad', 'stressed', 'victory',\n",
       "       'happy', 'victory', 'hiding', 'happy', 'offend', 'hiding', 'sad',\n",
       "       'intrested', 'offend', 'sad', 'happy', 'intrested', 'happy',\n",
       "       'hiding', 'stressed', 'hiding', 'happy', 'offend', 'stressed',\n",
       "       'lying', 'intrested', 'sad', 'victory', 'intrested', 'offend',\n",
       "       'offend', 'offend', 'sad', 'offend', 'lying', 'sad', 'hiding',\n",
       "       'stressed', 'intrested', 'sad', 'intrested', 'sad', 'sad',\n",
       "       'offend', 'offend', 'sad', 'intrested', 'stressed', 'happy',\n",
       "       'hiding', 'sad', 'hiding', 'sad', 'lying', 'happy', 'offend',\n",
       "       'hiding', 'sad', 'intrested', 'hiding', 'sad', 'intrested',\n",
       "       'hiding', 'offend', 'sad', 'stressed', 'sad', 'victory',\n",
       "       'stressed', 'hiding', 'offend', 'happy', 'offend', 'happy',\n",
       "       'stressed', 'offend', 'offend', 'intrested', 'offend', 'intrested',\n",
       "       'lying', 'offend', 'stressed', 'intrested', 'stressed', 'sad',\n",
       "       'lying', 'hiding', 'offend', 'sad', 'hiding', 'lying', 'offend',\n",
       "       'stressed', 'lying', 'intrested', 'hiding', 'hiding', 'intrested',\n",
       "       'offend', 'intrested', 'offend', 'intrested', 'offend', 'lying',\n",
       "       'happy', 'victory', 'happy', 'intrested', 'hiding', 'offend',\n",
       "       'intrested', 'offend', 'happy', 'lying', 'stressed', 'happy',\n",
       "       'offend', 'intrested', 'happy', 'victory', 'intrested', 'victory',\n",
       "       'offend', 'lying', 'sad', 'hiding', 'offend', 'hiding', 'victory',\n",
       "       'hiding', 'lying', 'intrested', 'lying', 'hiding', 'victory',\n",
       "       'sad', 'offend', 'offend', 'sad', 'sad', 'lying', 'sad', 'offend',\n",
       "       'hiding', 'stressed', 'hiding', 'happy', 'victory', 'sad', 'lying',\n",
       "       'offend', 'offend', 'happy', 'offend', 'happy', 'victory', 'sad',\n",
       "       'sad', 'victory', 'intrested', 'offend', 'hiding', 'sad',\n",
       "       'stressed', 'offend', 'offend', 'intrested', 'hiding', 'offend',\n",
       "       'hiding', 'sad', 'offend', 'offend', 'happy', 'stressed', 'offend',\n",
       "       'intrested', 'stressed', 'lying', 'happy', 'stressed', 'happy',\n",
       "       'offend', 'hiding', 'happy', 'offend', 'hiding', 'victory',\n",
       "       'intrested', 'intrested', 'happy', 'hiding', 'offend', 'hiding',\n",
       "       'offend', 'happy', 'offend', 'stressed', 'hiding', 'offend',\n",
       "       'intrested', 'lying', 'offend', 'hiding', 'sad', 'intrested',\n",
       "       'victory', 'sad', 'happy', 'lying', 'lying', 'stressed', 'victory',\n",
       "       'sad', 'sad', 'lying', 'offend', 'intrested', 'victory',\n",
       "       'intrested', 'intrested', 'stressed', 'offend', 'sad', 'victory',\n",
       "       'offend', 'intrested', 'offend', 'offend', 'offend', 'happy',\n",
       "       'sad', 'victory', 'sad', 'sad', 'happy', 'offend', 'hiding',\n",
       "       'happy', 'offend', 'stressed', 'intrested', 'lying', 'stressed',\n",
       "       'hiding', 'happy', 'hiding', 'victory', 'hiding', 'hiding',\n",
       "       'stressed', 'lying', 'stressed', 'stressed', 'sad', 'victory',\n",
       "       'hiding', 'happy', 'stressed', 'offend', 'lying', 'stressed',\n",
       "       'offend', 'happy', 'hiding', 'hiding', 'intrested', 'victory',\n",
       "       'intrested', 'intrested', 'lying', 'hiding', 'sad', 'stressed',\n",
       "       'intrested', 'intrested', 'happy', 'hiding', 'victory',\n",
       "       'intrested', 'hiding', 'hiding', 'intrested', 'happy', 'happy',\n",
       "       'hiding', 'happy', 'happy', 'victory', 'intrested', 'offend',\n",
       "       'happy', 'happy', 'victory', 'stressed', 'hiding', 'stressed',\n",
       "       'hiding', 'hiding', 'sad', 'happy', 'hiding', 'offend', 'lying',\n",
       "       'hiding', 'offend', 'happy', 'lying', 'happy', 'sad', 'stressed',\n",
       "       'offend', 'stressed', 'offend', 'offend', 'happy', 'sad', 'offend',\n",
       "       'happy', 'offend', 'sad', 'victory', 'offend', 'intrested',\n",
       "       'intrested', 'offend', 'sad', 'victory', 'hiding', 'lying',\n",
       "       'lying', 'hiding', 'hiding', 'happy', 'lying', 'happy', 'hiding',\n",
       "       'happy', 'hiding', 'intrested', 'victory', 'hiding', 'sad',\n",
       "       'lying', 'hiding', 'happy', 'stressed', 'offend', 'intrested',\n",
       "       'stressed', 'offend', 'happy', 'hiding', 'sad', 'offend',\n",
       "       'victory', 'intrested', 'offend', 'lying', 'hiding', 'lying',\n",
       "       'offend', 'offend', 'happy', 'lying', 'victory', 'offend',\n",
       "       'offend', 'sad', 'intrested', 'hiding', 'sad', 'offend', 'hiding',\n",
       "       'stressed', 'happy', 'hiding', 'intrested', 'offend', 'happy',\n",
       "       'lying', 'hiding', 'sad', 'victory', 'lying', 'hiding', 'stressed',\n",
       "       'offend', 'sad', 'sad', 'hiding', 'hiding', 'offend', 'happy',\n",
       "       'hiding', 'victory', 'stressed', 'offend', 'hiding', 'victory',\n",
       "       'stressed', 'intrested', 'intrested', 'offend', 'sad', 'intrested',\n",
       "       'sad', 'hiding', 'happy', 'victory', 'sad', 'offend', 'sad'],\n",
       "      dtype=object)"
      ]
     },
     "execution_count": 61,
     "metadata": {},
     "output_type": "execute_result"
    }
   ],
   "source": [
    "fit_models['gb'].predict(X_test)"
   ]
  },
  {
   "cell_type": "code",
   "execution_count": 78,
   "id": "85b9403a",
   "metadata": {},
   "outputs": [
    {
     "data": {
      "text/plain": [
       "array(['lying', 'lying', 'victory', 'sad', 'offend', 'lying', 'victory',\n",
       "       'intrested', 'hiding', 'sad', 'offend', 'sad', 'victory',\n",
       "       'intrested', 'sad', 'victory', 'stressed', 'offend', 'intrested',\n",
       "       'lying', 'offend', 'intrested', 'intrested', 'stressed', 'hiding',\n",
       "       'sad', 'lying', 'lying', 'sad', 'sad', 'victory', 'hiding',\n",
       "       'hiding', 'lying', 'hiding', 'victory', 'victory', 'intrested',\n",
       "       'sad', 'offend', 'offend', 'offend', 'intrested', 'hiding',\n",
       "       'intrested', 'stressed', 'intrested', 'sad', 'hiding', 'stressed',\n",
       "       'offend', 'offend', 'hiding', 'intrested', 'offend', 'hiding',\n",
       "       'intrested', 'intrested', 'stressed', 'sad', 'stressed', 'victory',\n",
       "       'lying', 'victory', 'hiding', 'victory', 'offend', 'hiding', 'sad',\n",
       "       'intrested', 'offend', 'sad', 'lying', 'intrested', 'hiding',\n",
       "       'hiding', 'stressed', 'hiding', 'victory', 'offend', 'stressed',\n",
       "       'lying', 'intrested', 'sad', 'victory', 'intrested', 'offend',\n",
       "       'offend', 'offend', 'sad', 'offend', 'lying', 'sad', 'hiding',\n",
       "       'stressed', 'intrested', 'sad', 'intrested', 'sad', 'sad',\n",
       "       'offend', 'offend', 'sad', 'intrested', 'stressed', 'victory',\n",
       "       'hiding', 'sad', 'hiding', 'sad', 'lying', 'victory', 'offend',\n",
       "       'hiding', 'sad', 'intrested', 'hiding', 'sad', 'intrested',\n",
       "       'hiding', 'offend', 'sad', 'stressed', 'sad', 'victory',\n",
       "       'stressed', 'hiding', 'offend', 'hiding', 'offend', 'victory',\n",
       "       'stressed', 'offend', 'offend', 'intrested', 'offend', 'intrested',\n",
       "       'lying', 'offend', 'stressed', 'intrested', 'stressed', 'sad',\n",
       "       'lying', 'hiding', 'offend', 'sad', 'hiding', 'lying', 'offend',\n",
       "       'stressed', 'lying', 'intrested', 'hiding', 'hiding', 'intrested',\n",
       "       'offend', 'intrested', 'offend', 'intrested', 'offend', 'lying',\n",
       "       'hiding', 'victory', 'lying', 'intrested', 'hiding', 'offend',\n",
       "       'intrested', 'offend', 'victory', 'lying', 'stressed', 'hiding',\n",
       "       'offend', 'intrested', 'victory', 'victory', 'intrested',\n",
       "       'victory', 'offend', 'lying', 'sad', 'hiding', 'offend', 'hiding',\n",
       "       'victory', 'hiding', 'lying', 'intrested', 'lying', 'hiding',\n",
       "       'victory', 'sad', 'offend', 'offend', 'sad', 'sad', 'lying', 'sad',\n",
       "       'offend', 'hiding', 'stressed', 'hiding', 'lying', 'victory',\n",
       "       'sad', 'lying', 'offend', 'offend', 'victory', 'offend', 'hiding',\n",
       "       'victory', 'sad', 'sad', 'victory', 'intrested', 'offend',\n",
       "       'hiding', 'sad', 'stressed', 'offend', 'offend', 'intrested',\n",
       "       'hiding', 'offend', 'hiding', 'sad', 'offend', 'offend', 'hiding',\n",
       "       'stressed', 'offend', 'intrested', 'stressed', 'lying', 'lying',\n",
       "       'stressed', 'lying', 'offend', 'hiding', 'intrested', 'offend',\n",
       "       'hiding', 'victory', 'intrested', 'intrested', 'victory', 'hiding',\n",
       "       'offend', 'hiding', 'offend', 'intrested', 'offend', 'stressed',\n",
       "       'hiding', 'offend', 'intrested', 'lying', 'offend', 'hiding',\n",
       "       'sad', 'intrested', 'victory', 'sad', 'lying', 'lying', 'lying',\n",
       "       'stressed', 'victory', 'sad', 'sad', 'lying', 'offend',\n",
       "       'intrested', 'victory', 'intrested', 'intrested', 'stressed',\n",
       "       'offend', 'sad', 'victory', 'offend', 'intrested', 'offend',\n",
       "       'offend', 'offend', 'victory', 'sad', 'victory', 'sad', 'sad',\n",
       "       'lying', 'offend', 'hiding', 'lying', 'offend', 'stressed',\n",
       "       'intrested', 'lying', 'stressed', 'hiding', 'victory', 'hiding',\n",
       "       'victory', 'hiding', 'hiding', 'stressed', 'lying', 'stressed',\n",
       "       'stressed', 'sad', 'victory', 'hiding', 'hiding', 'stressed',\n",
       "       'offend', 'lying', 'stressed', 'offend', 'lying', 'hiding',\n",
       "       'hiding', 'intrested', 'victory', 'intrested', 'intrested',\n",
       "       'lying', 'hiding', 'sad', 'stressed', 'intrested', 'intrested',\n",
       "       'hiding', 'hiding', 'victory', 'intrested', 'hiding', 'hiding',\n",
       "       'intrested', 'intrested', 'victory', 'hiding', 'intrested',\n",
       "       'lying', 'victory', 'intrested', 'offend', 'hiding', 'offend',\n",
       "       'victory', 'stressed', 'hiding', 'stressed', 'hiding', 'hiding',\n",
       "       'sad', 'hiding', 'hiding', 'offend', 'lying', 'hiding', 'offend',\n",
       "       'hiding', 'lying', 'hiding', 'sad', 'stressed', 'offend',\n",
       "       'stressed', 'offend', 'offend', 'lying', 'sad', 'offend',\n",
       "       'victory', 'offend', 'sad', 'victory', 'offend', 'intrested',\n",
       "       'intrested', 'offend', 'sad', 'victory', 'hiding', 'lying',\n",
       "       'lying', 'hiding', 'hiding', 'victory', 'lying', 'hiding',\n",
       "       'hiding', 'victory', 'hiding', 'intrested', 'victory', 'hiding',\n",
       "       'sad', 'lying', 'hiding', 'hiding', 'stressed', 'offend',\n",
       "       'intrested', 'stressed', 'offend', 'victory', 'hiding', 'sad',\n",
       "       'offend', 'victory', 'intrested', 'offend', 'lying', 'hiding',\n",
       "       'lying', 'offend', 'offend', 'victory', 'lying', 'victory',\n",
       "       'offend', 'offend', 'sad', 'intrested', 'hiding', 'sad', 'offend',\n",
       "       'hiding', 'stressed', 'lying', 'hiding', 'intrested', 'offend',\n",
       "       'lying', 'lying', 'hiding', 'sad', 'victory', 'lying', 'hiding',\n",
       "       'stressed', 'offend', 'sad', 'sad', 'hiding', 'hiding', 'offend',\n",
       "       'offend', 'hiding', 'victory', 'stressed', 'offend', 'hiding',\n",
       "       'victory', 'stressed', 'intrested', 'intrested', 'offend', 'sad',\n",
       "       'intrested', 'sad', 'hiding', 'victory', 'victory', 'sad',\n",
       "       'offend', 'sad'], dtype=object)"
      ]
     },
     "execution_count": 78,
     "metadata": {},
     "output_type": "execute_result"
    }
   ],
   "source": [
    "fit_models['svm'].predict(X_test)"
   ]
  },
  {
   "cell_type": "code",
   "execution_count": 25,
   "id": "e1777381",
   "metadata": {},
   "outputs": [],
   "source": [
    "with open('body_language.pkl', 'wb') as f:\n",
    "    pickle.dump(fit_models['rf'], f)"
   ]
  }
 ],
 "metadata": {
  "kernelspec": {
   "display_name": "Python 3 (ipykernel)",
   "language": "python",
   "name": "python3"
  },
  "language_info": {
   "codemirror_mode": {
    "name": "ipython",
    "version": 3
   },
   "file_extension": ".py",
   "mimetype": "text/x-python",
   "name": "python",
   "nbconvert_exporter": "python",
   "pygments_lexer": "ipython3",
   "version": "3.11.7"
  }
 },
 "nbformat": 4,
 "nbformat_minor": 5
}
